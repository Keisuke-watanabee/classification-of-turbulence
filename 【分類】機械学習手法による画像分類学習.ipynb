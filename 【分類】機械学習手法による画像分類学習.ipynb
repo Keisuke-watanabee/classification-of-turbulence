{
 "cells": [
  {
   "cell_type": "code",
   "execution_count": 1,
   "metadata": {},
   "outputs": [],
   "source": [
    "import os\n",
    "from sklearn.svm import SVC\n",
    "import numpy as np\n",
    "import random\n",
    "from PIL import Image, ImageOps\n",
    "from sklearn.metrics import accuracy_score\n",
    "import glob\n",
    "import matplotlib.pyplot as plt\n",
    "\n",
    "\n",
    "# 分類クラス\n",
    "classes = ['ari', 'nashi']\n",
    "nb_classes = len(classes)\n",
    "batch_size_for_data_generator = 30\n",
    "\n",
    "base_dir = \"/Users/watanabekeisuke/Documents/修士論文/乱気流/乱気流画像２/乱気流画像２２\"\n",
    "train_dir = os.path.join(base_dir, 'train')\n",
    "#validation_dir = os.path.join(base_dir, 'test')\n",
    "test_dir = os.path.join(base_dir, 'test')\n",
    "\n",
    "train_ari_dir = os.path.join(train_dir, 'ari/ari')\n",
    "train_nashi_dir = os.path.join(train_dir, 'nashi/nashi')\n",
    "\n",
    "test_ari_dir = os.path.join(test_dir, 'ari/ari')\n",
    "test_nashi_dir = os.path.join(test_dir, 'nashi/nashi')\n",
    "\n",
    "#img_rows, img_cols = 432, 288\n",
    "\n",
    "num_of_data_total = 3000\n",
    "N_col = 432*288*1 # 行列の列数\n",
    "X_train = np.zeros((num_of_data_total, N_col)) # 学習データ格納のためゼロ行列生成\n",
    "y_train = np.zeros((num_of_data_total)) # 学習データに対するラベルを格納するためのゼロ行列生成\n",
    "\n",
    "# 乱気流あり画像を行列に読み込む\n",
    "path_list = glob.glob(train_ari_dir + \"/*\") \n",
    "i_count = 0\n",
    "\n",
    "for item in path_list:\n",
    "    im = Image.open(item).convert('L')\n",
    "    img_resize =im.resize((432,288))\n",
    "    im_array = np.ravel(np.asarray(img_resize))\n",
    "    im_regularized = im_array/255.\n",
    "    X_train[i_count,:] =  im_regularized\n",
    "    y_train[i_count] = 0\n",
    "    i_count += 1\n",
    "    \n",
    "#乱気流なし画像を行列に読み込む\n",
    "path_list = glob.glob(train_nashi_dir + \"/*\") \n",
    "\n",
    "for item in path_list:\n",
    "    im = Image.open(item).convert('L')   \n",
    "    img_resize = im.resize((432,288))\n",
    "    im_array = np.ravel(np.asarray(img_resize))\n",
    "    im_regularized = im_array/255.\n",
    "    X_train[i_count,:] = im_regularized\n",
    "    y_train[i_count] = 1\n",
    "    i_count += 1\n",
    "    \n",
    "\n",
    "num_of_data_total = 600\n",
    "X_test = np.zeros((num_of_data_total, N_col))\n",
    "y_test = np.zeros(num_of_data_total)\n",
    "\n",
    "\n",
    "    \n",
    "# 乱気流あり画像を行列に読み込む（テストデータ）\n",
    "path_list = glob.glob(test_ari_dir+ \"/*\") \n",
    "i_count = 0\n",
    "for item in path_list:\n",
    "    im = Image.open(item).convert('L')\n",
    "    img_resize =im.resize((432,288))\n",
    "    im_array = np.ravel(np.array(img_resize))\n",
    "    im_mean_subtract = im_array/255.\n",
    "    X_test[i_count,:] =  im_mean_subtract\n",
    "    y_test[i_count] = 0\n",
    "    i_count += 1\n",
    "\n",
    "# 乱気流なし画像を行列に読み込む（テストデータ）\n",
    "path_list = glob.glob(test_nashi_dir+ \"/*\") \n",
    "\n",
    "for item in path_list:\n",
    "    im = Image.open(item).convert('L')   \n",
    "    img_resize = im.resize((432,288))\n",
    "    im_array = np.ravel(np.array(img_resize))\n",
    "    im_regularized = im_array/255.\n",
    "    X_test[i_count,:] = im_regularized\n",
    "    y_test[i_count] = 1\n",
    "    i_count += 1 "
   ]
  },
  {
   "cell_type": "code",
   "execution_count": 2,
   "metadata": {},
   "outputs": [
    {
     "name": "stdout",
     "output_type": "stream",
     "text": [
      "累積寄与率: 0.9983125567427512\n"
     ]
    }
   ],
   "source": [
    "#PCAによる次元削減\n",
    "from sklearn.decomposition import PCA\n",
    "N_dim =  100\n",
    "\n",
    "pca = PCA(n_components=N_dim, random_state=0)\n",
    "\n",
    "X_train_pca = pca.fit_transform(X_train)\n",
    "X_test_pca = pca.transform(X_test)\n",
    "\n",
    "print('累積寄与率: {0}'.format(sum(pca.explained_variance_ratio_)))"
   ]
  },
  {
   "cell_type": "code",
   "execution_count": 3,
   "metadata": {},
   "outputs": [
    {
     "name": "stdout",
     "output_type": "stream",
     "text": [
      "Train : 0.997\n",
      "Test : 0.8266666666666667\n"
     ]
    }
   ],
   "source": [
    "#非線形SVM\n",
    "model_nonlinearSVC = SVC(C=0.3, kernel='rbf', random_state=0)\n",
    "model_nonlinearSVC.fit(X_train_pca, y_train)\n",
    "\n",
    "# 精度\n",
    "print(\"Train :\", model_nonlinearSVC.score(X_train_pca,  y_train))\n",
    "print(\"Test :\", model_nonlinearSVC.score(X_test_pca, y_test))"
   ]
  },
  {
   "cell_type": "code",
   "execution_count": 4,
   "metadata": {},
   "outputs": [
    {
     "name": "stdout",
     "output_type": "stream",
     "text": [
      "Train : 0.9996666666666667\n",
      "Test : 0.8266666666666667\n"
     ]
    },
    {
     "name": "stderr",
     "output_type": "stream",
     "text": [
      "/Users/watanabekeisuke/anaconda3/lib/python3.7/site-packages/sklearn/svm/_base.py:1208: ConvergenceWarning: Liblinear failed to converge, increase the number of iterations.\n",
      "  ConvergenceWarning,\n"
     ]
    }
   ],
   "source": [
    "#線形SVM\n",
    "from sklearn.svm import LinearSVC\n",
    "model_linearSVC = LinearSVC(C=0.3, random_state=0)\n",
    "model_linearSVC.fit(X_train_pca, y_train)\n",
    "\n",
    "print(\"Train :\", model_linearSVC.score(X_train_pca,  y_train))\n",
    "print(\"Test :\", model_linearSVC.score(X_test_pca, y_test))"
   ]
  },
  {
   "cell_type": "code",
   "execution_count": 5,
   "metadata": {},
   "outputs": [
    {
     "name": "stdout",
     "output_type": "stream",
     "text": [
      "Train : 0.999\n",
      "Test : 0.8266666666666667\n"
     ]
    }
   ],
   "source": [
    "#XGBoost\n",
    "import xgboost as xgb\n",
    "model_xgb = xgb.XGBClassifier(n_estimators=80, max_depth=4, gamma=3)\n",
    "model_xgb.fit(X_train_pca, y_train)\n",
    "\n",
    "# 精度\n",
    "print(\"Train :\", model_xgb.score(X_train_pca,  y_train))\n",
    "print(\"Test :\", model_xgb.score(X_test_pca, y_test))"
   ]
  },
  {
   "cell_type": "code",
   "execution_count": 6,
   "metadata": {},
   "outputs": [
    {
     "name": "stdout",
     "output_type": "stream",
     "text": [
      "Train : 0.9793333333333333\n",
      "Test : 0.8233333333333334\n"
     ]
    }
   ],
   "source": [
    "#KNN\n",
    "from sklearn.neighbors import KNeighborsClassifier\n",
    "\n",
    "n_neighbors = int(np.sqrt(6000))\n",
    "\n",
    "model_kNN = KNeighborsClassifier(n_neighbors = n_neighbors) \n",
    "model_kNN.fit(X_train_pca, y_train)\n",
    "    \n",
    "# 精度\n",
    "print(\"Train :\", model_kNN.score(X_train_pca, y_train))\n",
    "print(\"Test :\", model_kNN.score(X_test_pca, y_test))"
   ]
  },
  {
   "cell_type": "code",
   "execution_count": 7,
   "metadata": {},
   "outputs": [
    {
     "name": "stdout",
     "output_type": "stream",
     "text": [
      "Train : 0.966\n",
      "Test : 0.8033333333333333\n"
     ]
    }
   ],
   "source": [
    "#ランダムフォレスト\n",
    "from sklearn.ensemble import RandomForestClassifier as rfc\n",
    "\n",
    "model_randomforest = rfc(max_depth=3, random_state=0)\n",
    "model_randomforest.fit(X_train_pca, y_train)\n",
    "\n",
    "# 精度\n",
    "print(\"Train :\", model_randomforest.score(X_train_pca, y_train))\n",
    "print(\"Test :\", model_randomforest.score(X_test_pca, y_test))"
   ]
  },
  {
   "cell_type": "code",
   "execution_count": 8,
   "metadata": {},
   "outputs": [
    {
     "name": "stderr",
     "output_type": "stream",
     "text": [
      "/Users/watanabekeisuke/anaconda3/lib/python3.7/site-packages/sklearn/svm/_base.py:1208: ConvergenceWarning: Liblinear failed to converge, increase the number of iterations.\n",
      "  ConvergenceWarning,\n",
      "/Users/watanabekeisuke/anaconda3/lib/python3.7/site-packages/sklearn/svm/_base.py:1208: ConvergenceWarning: Liblinear failed to converge, increase the number of iterations.\n",
      "  ConvergenceWarning,\n",
      "/Users/watanabekeisuke/anaconda3/lib/python3.7/site-packages/sklearn/svm/_base.py:1208: ConvergenceWarning: Liblinear failed to converge, increase the number of iterations.\n",
      "  ConvergenceWarning,\n",
      "/Users/watanabekeisuke/anaconda3/lib/python3.7/site-packages/sklearn/svm/_base.py:1208: ConvergenceWarning: Liblinear failed to converge, increase the number of iterations.\n",
      "  ConvergenceWarning,\n",
      "/Users/watanabekeisuke/anaconda3/lib/python3.7/site-packages/sklearn/svm/_base.py:1208: ConvergenceWarning: Liblinear failed to converge, increase the number of iterations.\n",
      "  ConvergenceWarning,\n",
      "/Users/watanabekeisuke/anaconda3/lib/python3.7/site-packages/sklearn/svm/_base.py:1208: ConvergenceWarning: Liblinear failed to converge, increase the number of iterations.\n",
      "  ConvergenceWarning,\n",
      "/Users/watanabekeisuke/anaconda3/lib/python3.7/site-packages/sklearn/svm/_base.py:1208: ConvergenceWarning: Liblinear failed to converge, increase the number of iterations.\n",
      "  ConvergenceWarning,\n",
      "/Users/watanabekeisuke/anaconda3/lib/python3.7/site-packages/sklearn/svm/_base.py:1208: ConvergenceWarning: Liblinear failed to converge, increase the number of iterations.\n",
      "  ConvergenceWarning,\n",
      "/Users/watanabekeisuke/anaconda3/lib/python3.7/site-packages/sklearn/svm/_base.py:1208: ConvergenceWarning: Liblinear failed to converge, increase the number of iterations.\n",
      "  ConvergenceWarning,\n",
      "/Users/watanabekeisuke/anaconda3/lib/python3.7/site-packages/sklearn/svm/_base.py:1208: ConvergenceWarning: Liblinear failed to converge, increase the number of iterations.\n",
      "  ConvergenceWarning,\n",
      "/Users/watanabekeisuke/anaconda3/lib/python3.7/site-packages/sklearn/svm/_base.py:1208: ConvergenceWarning: Liblinear failed to converge, increase the number of iterations.\n",
      "  ConvergenceWarning,\n",
      "/Users/watanabekeisuke/anaconda3/lib/python3.7/site-packages/sklearn/svm/_base.py:1208: ConvergenceWarning: Liblinear failed to converge, increase the number of iterations.\n",
      "  ConvergenceWarning,\n",
      "/Users/watanabekeisuke/anaconda3/lib/python3.7/site-packages/sklearn/svm/_base.py:1208: ConvergenceWarning: Liblinear failed to converge, increase the number of iterations.\n",
      "  ConvergenceWarning,\n",
      "/Users/watanabekeisuke/anaconda3/lib/python3.7/site-packages/sklearn/svm/_base.py:1208: ConvergenceWarning: Liblinear failed to converge, increase the number of iterations.\n",
      "  ConvergenceWarning,\n",
      "/Users/watanabekeisuke/anaconda3/lib/python3.7/site-packages/sklearn/svm/_base.py:1208: ConvergenceWarning: Liblinear failed to converge, increase the number of iterations.\n",
      "  ConvergenceWarning,\n",
      "/Users/watanabekeisuke/anaconda3/lib/python3.7/site-packages/sklearn/svm/_base.py:1208: ConvergenceWarning: Liblinear failed to converge, increase the number of iterations.\n",
      "  ConvergenceWarning,\n",
      "/Users/watanabekeisuke/anaconda3/lib/python3.7/site-packages/sklearn/svm/_base.py:1208: ConvergenceWarning: Liblinear failed to converge, increase the number of iterations.\n",
      "  ConvergenceWarning,\n",
      "/Users/watanabekeisuke/anaconda3/lib/python3.7/site-packages/sklearn/svm/_base.py:1208: ConvergenceWarning: Liblinear failed to converge, increase the number of iterations.\n",
      "  ConvergenceWarning,\n",
      "/Users/watanabekeisuke/anaconda3/lib/python3.7/site-packages/sklearn/svm/_base.py:1208: ConvergenceWarning: Liblinear failed to converge, increase the number of iterations.\n",
      "  ConvergenceWarning,\n",
      "/Users/watanabekeisuke/anaconda3/lib/python3.7/site-packages/sklearn/svm/_base.py:1208: ConvergenceWarning: Liblinear failed to converge, increase the number of iterations.\n",
      "  ConvergenceWarning,\n",
      "/Users/watanabekeisuke/anaconda3/lib/python3.7/site-packages/sklearn/svm/_base.py:1208: ConvergenceWarning: Liblinear failed to converge, increase the number of iterations.\n",
      "  ConvergenceWarning,\n",
      "/Users/watanabekeisuke/anaconda3/lib/python3.7/site-packages/sklearn/svm/_base.py:1208: ConvergenceWarning: Liblinear failed to converge, increase the number of iterations.\n",
      "  ConvergenceWarning,\n"
     ]
    }
   ],
   "source": [
    "from sklearn.model_selection import learning_curve\n",
    "train_sizes = np.array([0.1, 0.33, 0.55, 0.78, 1. ]) #用いる学習データの割合を全体の0.1〜1まで変化させる\n",
    "\n",
    "train_sizes, train_scores_linearSVC, test_scores_linearSVC = learning_curve(\n",
    "    model_linearSVC, X_train_pca, y_train, cv=5, train_sizes=train_sizes, random_state=0, shuffle=True\n",
    "    )#様々学習データ数に対して、モデルを学習・評価する。\n",
    "\n",
    "#各学習データ数の場合について学習用データと検証用データに対する精度を求める。\n",
    "train_scores_mean_linearSVC = np.mean(train_scores_linearSVC, axis=1)\n",
    "train_scores_std_linearSVC = np.std(train_scores_linearSVC, axis=1)\n",
    "validation_scores_mean_linearSVC = np.mean(test_scores_linearSVC, axis=1)\n",
    "validation_scores_std_linearSVC = np.std(test_scores_linearSVC, axis=1)"
   ]
  },
  {
   "cell_type": "code",
   "execution_count": 9,
   "metadata": {},
   "outputs": [],
   "source": [
    "train_sizes, train_scores_kNN, test_scores_kNN = learning_curve(\n",
    "    model_kNN, X_train_pca, y_train, cv=5, train_sizes=train_sizes, random_state=0, shuffle=True\n",
    "    )#様々学習データ数に対して、モデルを学習・評価する。\n",
    "\n",
    "#各学習データ数の場合について学習用データと検証用データに対する精度を求める。\n",
    "train_scores_mean_kNN = np.mean(train_scores_kNN, axis=1)\n",
    "train_scores_std_kNN = np.std(train_scores_kNN, axis=1)\n",
    "validation_scores_mean_kNN = np.mean(test_scores_kNN, axis=1)\n",
    "validation_scores_std_kNN = np.std(test_scores_kNN, axis=1)"
   ]
  },
  {
   "cell_type": "code",
   "execution_count": 10,
   "metadata": {},
   "outputs": [],
   "source": [
    "train_sizes, train_scores_nonlinearSVC, test_scores_nonlinearSVC = learning_curve(\n",
    "    model_nonlinearSVC, X_train_pca, y_train, cv=5, train_sizes=train_sizes, random_state=0, shuffle=True\n",
    "    )#様々学習データ数に対して、モデルを学習・評価する。\n",
    "\n",
    "#各学習データ数の場合について学習用データと検証用データに対する精度を求める。\n",
    "train_scores_mean_nonlinearSVC = np.mean(train_scores_nonlinearSVC, axis=1)\n",
    "train_scores_std_nonlinearSVC = np.std(train_scores_nonlinearSVC, axis=1)\n",
    "validation_scores_mean_nonlinearSVC = np.mean(test_scores_nonlinearSVC, axis=1)\n",
    "validation_scores_std_nonlinearSVC = np.std(test_scores_nonlinearSVC, axis=1)"
   ]
  },
  {
   "cell_type": "code",
   "execution_count": 11,
   "metadata": {},
   "outputs": [],
   "source": [
    "train_sizes, train_scores_xgb, test_scores_xgb = learning_curve(\n",
    "    model_xgb, X_train_pca, y_train, cv=5, train_sizes=train_sizes, random_state=0, shuffle=True\n",
    "    )#様々学習データ数に対して、モデルを学習・評価する。\n",
    "\n",
    "#各学習データ数の場合について学習用データと検証用データに対する精度を求める。\n",
    "train_scores_mean_xgb = np.mean(train_scores_xgb, axis=1)\n",
    "train_scores_std_xgb = np.std(train_scores_xgb, axis=1)\n",
    "validation_scores_mean_xgb = np.mean(test_scores_xgb, axis=1)\n",
    "validation_scores_std_xgb = np.std(test_scores_xgb, axis=1)"
   ]
  },
  {
   "cell_type": "code",
   "execution_count": 12,
   "metadata": {},
   "outputs": [
    {
     "data": {
      "text/plain": [
       "<matplotlib.legend.Legend at 0x7fe0080aec50>"
      ]
     },
     "execution_count": 12,
     "metadata": {},
     "output_type": "execute_result"
    },
    {
     "data": {
      "image/png": "[encoded data removed]",
      "text/plain": [
       "<Figure size 864x576 with 4 Axes>"
      ]
     },
     "metadata": {
      "needs_background": "light"
     },
     "output_type": "display_data"
    }
   ],
   "source": [
    "fig, ax = plt.subplots(2, 2, figsize=(12, 8))\n",
    "plt.subplots_adjust(wspace=0.4, hspace=0.6)\n",
    "\n",
    "# Linear SVCの学習曲線\n",
    "ax[0,0].plot(train_sizes, train_scores_mean_linearSVC, 'o-', color=\"r\", label=\"Training score\")\n",
    "ax[0,0].plot(train_sizes, validation_scores_mean_linearSVC, 'o-', color=\"g\", label=\"Test score\")\n",
    "\n",
    "ax[0, 0].set_title('Linear SVC')\n",
    "ax[0, 0].set_xlabel('Number of Taining data')\n",
    "ax[0, 0].set_ylabel('Accyracy')\n",
    "ax[0,0].set_ylim(0.95, 1.0)\n",
    "#ax[0,0].set_xlim(1000, 4000)\n",
    "ax[0,0].legend(loc=\"best\")\n",
    "\n",
    "# kNNの学習曲線\n",
    "ax[1,0].plot(train_sizes, train_scores_mean_kNN, 'o-', color=\"r\", label=\"Training score\")\n",
    "ax[1,0].plot(train_sizes, validation_scores_mean_kNN, 'o-', color=\"g\", label=\"Test score\")\n",
    "\n",
    "ax[1, 0].set_title('k-NN')\n",
    "ax[1, 0].set_xlabel('Number of Taining data')\n",
    "ax[1, 0].set_ylabel('Accuracy')\n",
    "ax[1,0].set_ylim(0.8, 1.0)\n",
    "ax[1,0].legend(loc=\"best\")\n",
    "\n",
    "# 非線形SVCの学習曲線\n",
    "ax[0,1].plot(train_sizes, train_scores_mean_nonlinearSVC, 'o-', color=\"r\", label=\"Training score\")\n",
    "ax[0,1].plot(train_sizes, validation_scores_mean_nonlinearSVC, 'o-', color=\"g\", label=\"Test score\")\n",
    "ax[0, 1].set_title('non-linear SVC')\n",
    "ax[0, 1].set_xlabel('Number of Taining data')\n",
    "ax[0, 1].set_ylabel('Accuracy')\n",
    "ax[0,1].set_ylim(0.95, 1.0)\n",
    "ax[0,1].legend(loc=\"best\")\n",
    "\n",
    "# XGBoostの学習曲線\n",
    "ax[1,1].plot(train_sizes, train_scores_mean_xgb, 'o-', color=\"r\", label=\"Training score\")\n",
    "ax[1,1].plot(train_sizes, validation_scores_mean_xgb, 'o-', color=\"g\", label=\"Test score\")\n",
    "\n",
    "ax[1, 1].set_title('XGBoost')\n",
    "ax[1, 1].set_xlabel('Number of Taining data')\n",
    "ax[1, 1].set_ylabel('Accuracy')\n",
    "ax[1,1].set_ylim(0.95, 1.0)\n",
    "ax[1,1].legend(loc=\"best\")"
   ]
  },
  {
   "cell_type": "code",
   "execution_count": null,
   "metadata": {},
   "outputs": [],
   "source": []
  }
 ],
 "metadata": {
  "kernelspec": {
   "display_name": "Python 3",
   "language": "python",
   "name": "python3"
  },
  "language_info": {
   "codemirror_mode": {
    "name": "ipython",
    "version": 3
   },
   "file_extension": ".py",
   "mimetype": "text/x-python",
   "name": "python",
   "nbconvert_exporter": "python",
   "pygments_lexer": "ipython3",
   "version": "3.7.7"
  }
 },
 "nbformat": 4,
 "nbformat_minor": 4
}
